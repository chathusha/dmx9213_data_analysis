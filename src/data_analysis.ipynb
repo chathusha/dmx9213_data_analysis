{
 "cells": [
  {
   "cell_type": "markdown",
   "metadata": {},
   "source": [
    "# Data Analysis\n",
    "\n",
    "<p>This file is use to analyse the data files generated using the OpenStuido software as a part of DMX9213 research. The below steps will be followed for the data analysis.</p>\n",
    "\n",
    "- Step 1: Open .csv file and preprocess the data.\n",
    "- Step 2: Calculate the PMV values for each hour.\n",
    "- Step 3: Identify the month with highest cumilative PMV values averaged over 30 days from the baselins.\n",
    "- Step 4: Check if the months are different from each baselines. If different, use the month that selected by majority of models.\n",
    "- Step 5: Average the temperature, humidity and PMV values for the selected month. Average values should represent 24 hour variation of temperature and humidity for the selected month.\n",
    "- Step 6: Generate graphs to compair the temperature, humidity and PMV values for the baseline and the passive cooling implimented models. The comparison should be performend for the selected month.\n"
   ]
  },
  {
   "cell_type": "markdown",
   "metadata": {},
   "source": [
    "### General\n",
    "\n",
    "This section will be used to import the data necessary for all simulation."
   ]
  },
  {
   "cell_type": "code",
   "execution_count": 1,
   "metadata": {},
   "outputs": [
    {
     "name": "stdout",
     "output_type": "stream",
     "text": [
      "Requirement already satisfied: pandas in c:\\users\\rog\\documents\\coding\\dmx9213_data_analysis\\venv\\lib\\site-packages (2.2.0)\n",
      "Requirement already satisfied: numpy<2,>=1.26.0 in c:\\users\\rog\\documents\\coding\\dmx9213_data_analysis\\venv\\lib\\site-packages (from pandas) (1.26.3)\n",
      "Requirement already satisfied: python-dateutil>=2.8.2 in c:\\users\\rog\\documents\\coding\\dmx9213_data_analysis\\venv\\lib\\site-packages (from pandas) (2.8.2)\n",
      "Requirement already satisfied: pytz>=2020.1 in c:\\users\\rog\\documents\\coding\\dmx9213_data_analysis\\venv\\lib\\site-packages (from pandas) (2023.3.post1)\n",
      "Requirement already satisfied: tzdata>=2022.7 in c:\\users\\rog\\documents\\coding\\dmx9213_data_analysis\\venv\\lib\\site-packages (from pandas) (2023.4)\n",
      "Requirement already satisfied: six>=1.5 in c:\\users\\rog\\documents\\coding\\dmx9213_data_analysis\\venv\\lib\\site-packages (from python-dateutil>=2.8.2->pandas) (1.16.0)\n",
      "Note: you may need to restart the kernel to use updated packages.\n"
     ]
    },
    {
     "name": "stderr",
     "output_type": "stream",
     "text": [
      "\n",
      "[notice] A new release of pip is available: 23.2.1 -> 24.0\n",
      "[notice] To update, run: python.exe -m pip install --upgrade pip\n"
     ]
    },
    {
     "name": "stdout",
     "output_type": "stream",
     "text": [
      "Requirement already satisfied: matplotlib in c:\\users\\rog\\documents\\coding\\dmx9213_data_analysis\\venv\\lib\\site-packages (3.8.2)\n",
      "Requirement already satisfied: contourpy>=1.0.1 in c:\\users\\rog\\documents\\coding\\dmx9213_data_analysis\\venv\\lib\\site-packages (from matplotlib) (1.2.0)\n",
      "Requirement already satisfied: cycler>=0.10 in c:\\users\\rog\\documents\\coding\\dmx9213_data_analysis\\venv\\lib\\site-packages (from matplotlib) (0.12.1)\n",
      "Requirement already satisfied: fonttools>=4.22.0 in c:\\users\\rog\\documents\\coding\\dmx9213_data_analysis\\venv\\lib\\site-packages (from matplotlib) (4.47.2)\n",
      "Requirement already satisfied: kiwisolver>=1.3.1 in c:\\users\\rog\\documents\\coding\\dmx9213_data_analysis\\venv\\lib\\site-packages (from matplotlib) (1.4.5)\n",
      "Requirement already satisfied: numpy<2,>=1.21 in c:\\users\\rog\\documents\\coding\\dmx9213_data_analysis\\venv\\lib\\site-packages (from matplotlib) (1.26.3)\n",
      "Requirement already satisfied: packaging>=20.0 in c:\\users\\rog\\documents\\coding\\dmx9213_data_analysis\\venv\\lib\\site-packages (from matplotlib) (23.2)\n",
      "Requirement already satisfied: pillow>=8 in c:\\users\\rog\\documents\\coding\\dmx9213_data_analysis\\venv\\lib\\site-packages (from matplotlib) (10.2.0)\n",
      "Requirement already satisfied: pyparsing>=2.3.1 in c:\\users\\rog\\documents\\coding\\dmx9213_data_analysis\\venv\\lib\\site-packages (from matplotlib) (3.1.1)\n",
      "Requirement already satisfied: python-dateutil>=2.7 in c:\\users\\rog\\documents\\coding\\dmx9213_data_analysis\\venv\\lib\\site-packages (from matplotlib) (2.8.2)\n",
      "Requirement already satisfied: six>=1.5 in c:\\users\\rog\\documents\\coding\\dmx9213_data_analysis\\venv\\lib\\site-packages (from python-dateutil>=2.7->matplotlib) (1.16.0)\n",
      "Note: you may need to restart the kernel to use updated packages.\n"
     ]
    },
    {
     "name": "stderr",
     "output_type": "stream",
     "text": [
      "\n",
      "[notice] A new release of pip is available: 23.2.1 -> 24.0\n",
      "[notice] To update, run: python.exe -m pip install --upgrade pip\n"
     ]
    },
    {
     "name": "stdout",
     "output_type": "stream",
     "text": [
      "Requirement already satisfied: ipywidgets in c:\\users\\rog\\documents\\coding\\dmx9213_data_analysis\\venv\\lib\\site-packages (8.1.2)\n",
      "Requirement already satisfied: comm>=0.1.3 in c:\\users\\rog\\documents\\coding\\dmx9213_data_analysis\\venv\\lib\\site-packages (from ipywidgets) (0.2.1)\n",
      "Requirement already satisfied: ipython>=6.1.0 in c:\\users\\rog\\documents\\coding\\dmx9213_data_analysis\\venv\\lib\\site-packages (from ipywidgets) (8.20.0)\n",
      "Requirement already satisfied: traitlets>=4.3.1 in c:\\users\\rog\\documents\\coding\\dmx9213_data_analysis\\venv\\lib\\site-packages (from ipywidgets) (5.14.1)\n",
      "Requirement already satisfied: widgetsnbextension~=4.0.10 in c:\\users\\rog\\documents\\coding\\dmx9213_data_analysis\\venv\\lib\\site-packages (from ipywidgets) (4.0.10)\n",
      "Requirement already satisfied: jupyterlab-widgets~=3.0.10 in c:\\users\\rog\\documents\\coding\\dmx9213_data_analysis\\venv\\lib\\site-packages (from ipywidgets) (3.0.10)\n",
      "Requirement already satisfied: decorator in c:\\users\\rog\\documents\\coding\\dmx9213_data_analysis\\venv\\lib\\site-packages (from ipython>=6.1.0->ipywidgets) (5.1.1)\n",
      "Requirement already satisfied: jedi>=0.16 in c:\\users\\rog\\documents\\coding\\dmx9213_data_analysis\\venv\\lib\\site-packages (from ipython>=6.1.0->ipywidgets) (0.19.1)\n",
      "Requirement already satisfied: matplotlib-inline in c:\\users\\rog\\documents\\coding\\dmx9213_data_analysis\\venv\\lib\\site-packages (from ipython>=6.1.0->ipywidgets) (0.1.6)\n",
      "Requirement already satisfied: prompt-toolkit<3.1.0,>=3.0.41 in c:\\users\\rog\\documents\\coding\\dmx9213_data_analysis\\venv\\lib\\site-packages (from ipython>=6.1.0->ipywidgets) (3.0.43)\n",
      "Requirement already satisfied: pygments>=2.4.0 in c:\\users\\rog\\documents\\coding\\dmx9213_data_analysis\\venv\\lib\\site-packages (from ipython>=6.1.0->ipywidgets) (2.17.2)\n",
      "Requirement already satisfied: stack-data in c:\\users\\rog\\documents\\coding\\dmx9213_data_analysis\\venv\\lib\\site-packages (from ipython>=6.1.0->ipywidgets) (0.6.3)\n",
      "Requirement already satisfied: colorama in c:\\users\\rog\\documents\\coding\\dmx9213_data_analysis\\venv\\lib\\site-packages (from ipython>=6.1.0->ipywidgets) (0.4.6)\n",
      "Requirement already satisfied: parso<0.9.0,>=0.8.3 in c:\\users\\rog\\documents\\coding\\dmx9213_data_analysis\\venv\\lib\\site-packages (from jedi>=0.16->ipython>=6.1.0->ipywidgets) (0.8.3)\n",
      "Requirement already satisfied: wcwidth in c:\\users\\rog\\documents\\coding\\dmx9213_data_analysis\\venv\\lib\\site-packages (from prompt-toolkit<3.1.0,>=3.0.41->ipython>=6.1.0->ipywidgets) (0.2.13)\n",
      "Requirement already satisfied: executing>=1.2.0 in c:\\users\\rog\\documents\\coding\\dmx9213_data_analysis\\venv\\lib\\site-packages (from stack-data->ipython>=6.1.0->ipywidgets) (2.0.1)\n",
      "Requirement already satisfied: asttokens>=2.1.0 in c:\\users\\rog\\documents\\coding\\dmx9213_data_analysis\\venv\\lib\\site-packages (from stack-data->ipython>=6.1.0->ipywidgets) (2.4.1)\n",
      "Requirement already satisfied: pure-eval in c:\\users\\rog\\documents\\coding\\dmx9213_data_analysis\\venv\\lib\\site-packages (from stack-data->ipython>=6.1.0->ipywidgets) (0.2.2)\n",
      "Requirement already satisfied: six>=1.12.0 in c:\\users\\rog\\documents\\coding\\dmx9213_data_analysis\\venv\\lib\\site-packages (from asttokens>=2.1.0->stack-data->ipython>=6.1.0->ipywidgets) (1.16.0)\n",
      "Note: you may need to restart the kernel to use updated packages.\n"
     ]
    },
    {
     "name": "stderr",
     "output_type": "stream",
     "text": [
      "\n",
      "[notice] A new release of pip is available: 23.2.1 -> 24.0\n",
      "[notice] To update, run: python.exe -m pip install --upgrade pip\n"
     ]
    },
    {
     "name": "stdout",
     "output_type": "stream",
     "text": [
      "Requirement already satisfied: ipympl in c:\\users\\rog\\documents\\coding\\dmx9213_data_analysis\\venv\\lib\\site-packages (0.9.3)\n",
      "Requirement already satisfied: ipython<9 in c:\\users\\rog\\documents\\coding\\dmx9213_data_analysis\\venv\\lib\\site-packages (from ipympl) (8.20.0)\n",
      "Requirement already satisfied: numpy in c:\\users\\rog\\documents\\coding\\dmx9213_data_analysis\\venv\\lib\\site-packages (from ipympl) (1.26.3)\n",
      "Requirement already satisfied: ipython-genutils in c:\\users\\rog\\documents\\coding\\dmx9213_data_analysis\\venv\\lib\\site-packages (from ipympl) (0.2.0)\n",
      "Requirement already satisfied: pillow in c:\\users\\rog\\documents\\coding\\dmx9213_data_analysis\\venv\\lib\\site-packages (from ipympl) (10.2.0)\n",
      "Requirement already satisfied: traitlets<6 in c:\\users\\rog\\documents\\coding\\dmx9213_data_analysis\\venv\\lib\\site-packages (from ipympl) (5.14.1)\n",
      "Requirement already satisfied: ipywidgets<9,>=7.6.0 in c:\\users\\rog\\documents\\coding\\dmx9213_data_analysis\\venv\\lib\\site-packages (from ipympl) (8.1.2)\n",
      "Requirement already satisfied: matplotlib<4,>=3.4.0 in c:\\users\\rog\\documents\\coding\\dmx9213_data_analysis\\venv\\lib\\site-packages (from ipympl) (3.8.2)\n",
      "Requirement already satisfied: decorator in c:\\users\\rog\\documents\\coding\\dmx9213_data_analysis\\venv\\lib\\site-packages (from ipython<9->ipympl) (5.1.1)\n",
      "Requirement already satisfied: jedi>=0.16 in c:\\users\\rog\\documents\\coding\\dmx9213_data_analysis\\venv\\lib\\site-packages (from ipython<9->ipympl) (0.19.1)\n",
      "Requirement already satisfied: matplotlib-inline in c:\\users\\rog\\documents\\coding\\dmx9213_data_analysis\\venv\\lib\\site-packages (from ipython<9->ipympl) (0.1.6)\n",
      "Requirement already satisfied: prompt-toolkit<3.1.0,>=3.0.41 in c:\\users\\rog\\documents\\coding\\dmx9213_data_analysis\\venv\\lib\\site-packages (from ipython<9->ipympl) (3.0.43)\n",
      "Requirement already satisfied: pygments>=2.4.0 in c:\\users\\rog\\documents\\coding\\dmx9213_data_analysis\\venv\\lib\\site-packages (from ipython<9->ipympl) (2.17.2)\n",
      "Requirement already satisfied: stack-data in c:\\users\\rog\\documents\\coding\\dmx9213_data_analysis\\venv\\lib\\site-packages (from ipython<9->ipympl) (0.6.3)\n",
      "Requirement already satisfied: colorama in c:\\users\\rog\\documents\\coding\\dmx9213_data_analysis\\venv\\lib\\site-packages (from ipython<9->ipympl) (0.4.6)\n",
      "Requirement already satisfied: comm>=0.1.3 in c:\\users\\rog\\documents\\coding\\dmx9213_data_analysis\\venv\\lib\\site-packages (from ipywidgets<9,>=7.6.0->ipympl) (0.2.1)\n",
      "Requirement already satisfied: widgetsnbextension~=4.0.10 in c:\\users\\rog\\documents\\coding\\dmx9213_data_analysis\\venv\\lib\\site-packages (from ipywidgets<9,>=7.6.0->ipympl) (4.0.10)\n",
      "Requirement already satisfied: jupyterlab-widgets~=3.0.10 in c:\\users\\rog\\documents\\coding\\dmx9213_data_analysis\\venv\\lib\\site-packages (from ipywidgets<9,>=7.6.0->ipympl) (3.0.10)\n",
      "Requirement already satisfied: contourpy>=1.0.1 in c:\\users\\rog\\documents\\coding\\dmx9213_data_analysis\\venv\\lib\\site-packages (from matplotlib<4,>=3.4.0->ipympl) (1.2.0)\n",
      "Requirement already satisfied: cycler>=0.10 in c:\\users\\rog\\documents\\coding\\dmx9213_data_analysis\\venv\\lib\\site-packages (from matplotlib<4,>=3.4.0->ipympl) (0.12.1)\n",
      "Requirement already satisfied: fonttools>=4.22.0 in c:\\users\\rog\\documents\\coding\\dmx9213_data_analysis\\venv\\lib\\site-packages (from matplotlib<4,>=3.4.0->ipympl) (4.47.2)\n",
      "Requirement already satisfied: kiwisolver>=1.3.1 in c:\\users\\rog\\documents\\coding\\dmx9213_data_analysis\\venv\\lib\\site-packages (from matplotlib<4,>=3.4.0->ipympl) (1.4.5)\n",
      "Requirement already satisfied: packaging>=20.0 in c:\\users\\rog\\documents\\coding\\dmx9213_data_analysis\\venv\\lib\\site-packages (from matplotlib<4,>=3.4.0->ipympl) (23.2)\n",
      "Requirement already satisfied: pyparsing>=2.3.1 in c:\\users\\rog\\documents\\coding\\dmx9213_data_analysis\\venv\\lib\\site-packages (from matplotlib<4,>=3.4.0->ipympl) (3.1.1)\n",
      "Requirement already satisfied: python-dateutil>=2.7 in c:\\users\\rog\\documents\\coding\\dmx9213_data_analysis\\venv\\lib\\site-packages (from matplotlib<4,>=3.4.0->ipympl) (2.8.2)\n",
      "Requirement already satisfied: parso<0.9.0,>=0.8.3 in c:\\users\\rog\\documents\\coding\\dmx9213_data_analysis\\venv\\lib\\site-packages (from jedi>=0.16->ipython<9->ipympl) (0.8.3)\n",
      "Requirement already satisfied: wcwidth in c:\\users\\rog\\documents\\coding\\dmx9213_data_analysis\\venv\\lib\\site-packages (from prompt-toolkit<3.1.0,>=3.0.41->ipython<9->ipympl) (0.2.13)\n",
      "Requirement already satisfied: six>=1.5 in c:\\users\\rog\\documents\\coding\\dmx9213_data_analysis\\venv\\lib\\site-packages (from python-dateutil>=2.7->matplotlib<4,>=3.4.0->ipympl) (1.16.0)\n",
      "Requirement already satisfied: executing>=1.2.0 in c:\\users\\rog\\documents\\coding\\dmx9213_data_analysis\\venv\\lib\\site-packages (from stack-data->ipython<9->ipympl) (2.0.1)\n",
      "Requirement already satisfied: asttokens>=2.1.0 in c:\\users\\rog\\documents\\coding\\dmx9213_data_analysis\\venv\\lib\\site-packages (from stack-data->ipython<9->ipympl) (2.4.1)\n",
      "Requirement already satisfied: pure-eval in c:\\users\\rog\\documents\\coding\\dmx9213_data_analysis\\venv\\lib\\site-packages (from stack-data->ipython<9->ipympl) (0.2.2)\n",
      "Note: you may need to restart the kernel to use updated packages.\n",
      "CPU times: total: 15.6 ms\n",
      "Wall time: 5.61 s\n"
     ]
    },
    {
     "name": "stderr",
     "output_type": "stream",
     "text": [
      "\n",
      "[notice] A new release of pip is available: 23.2.1 -> 24.0\n",
      "[notice] To update, run: python.exe -m pip install --upgrade pip\n"
     ]
    }
   ],
   "source": [
    "%%time \n",
    "\n",
    "# install packages\n",
    "%pip install pandas\n",
    "%pip install matplotlib\n",
    "%pip install ipywidgets\n",
    "%pip install ipympl"
   ]
  },
  {
   "cell_type": "code",
   "execution_count": 2,
   "metadata": {},
   "outputs": [
    {
     "name": "stderr",
     "output_type": "stream",
     "text": [
      "C:\\Users\\ROG\\AppData\\Local\\Temp\\ipykernel_24368\\1941769566.py:3: DeprecationWarning: \n",
      "Pyarrow will become a required dependency of pandas in the next major release of pandas (pandas 3.0),\n",
      "(to allow more performant data types, such as the Arrow string type, and better interoperability with other libraries)\n",
      "but was not found to be installed on your system.\n",
      "If this would cause problems for you,\n",
      "please provide us feedback at https://github.com/pandas-dev/pandas/issues/54466\n",
      "        \n",
      "  import pandas as pd\n"
     ]
    }
   ],
   "source": [
    "# import packages\n",
    "import math\n",
    "import pandas as pd\n",
    "import os\n",
    "import matplotlib.pyplot as plt\n",
    "import numpy as np\n",
    "import ipywidgets\n",
    "from IPython.display import display\n",
    "\n",
    "%matplotlib widget"
   ]
  },
  {
   "cell_type": "code",
   "execution_count": 3,
   "metadata": {},
   "outputs": [],
   "source": [
    "# paths\n",
    "BASELINE_PATH = \"input/baseline/\"\n",
    "IMPROVED_PATH = \"input/improved/\"\n",
    "baseline_csv_files = os.listdir(BASELINE_PATH)\n",
    "improved_csv_files = os.listdir(IMPROVED_PATH)"
   ]
  },
  {
   "cell_type": "code",
   "execution_count": 4,
   "metadata": {},
   "outputs": [],
   "source": [
    "# import the test file\n",
    "TEST_FILE_PATH = \"input/test.csv\""
   ]
  },
  {
   "cell_type": "code",
   "execution_count": 5,
   "metadata": {},
   "outputs": [],
   "source": [
    "# parameter to run the test cells\n",
    "run_test = False"
   ]
  },
  {
   "cell_type": "markdown",
   "metadata": {},
   "source": [
    "### Step 1\n",
    "\n",
    "\n",
    "Open .csv file and preprocess the data."
   ]
  },
  {
   "cell_type": "code",
   "execution_count": 6,
   "metadata": {},
   "outputs": [],
   "source": [
    "def preprocess_data(file_path: str) -> pd.DataFrame:\n",
    "\n",
    "    df = pd.read_csv(file_path)\n",
    "\n",
    "    # remove columns relevent to plenum space\n",
    "    columns_to_drop = [column_name for column_name in df.columns if \"PLENUM\" in column_name]\n",
    "    df.drop(columns=columns_to_drop, inplace=True)\n",
    "\n",
    "    # rename the columns\n",
    "    for column_name in df.columns:\n",
    "        df.rename(columns={column_name: column_name.replace('LIVINGTHERMALZONE:Zone', '').strip()}, inplace=True)\n",
    "\n",
    "    # change the hourly column to datetime\n",
    "    df[\"Hourly\"] = pd.to_datetime(df[\"Hourly\"])\n",
    "\n",
    "    return df"
   ]
  },
  {
   "cell_type": "code",
   "execution_count": 7,
   "metadata": {},
   "outputs": [],
   "source": [
    "if run_test:\n",
    "    step_1_test_df = preprocess_data(TEST_FILE_PATH)\n",
    "    display(step_1_test_df.head())"
   ]
  },
  {
   "cell_type": "markdown",
   "metadata": {},
   "source": [
    "### Step 2\n",
    "\n",
    "Calculate PMV values for each hour. \\\n",
    "Refer to following link for more details on PMV calculation. \\\n",
    "https://github.com/chathusha/PmvCalculator"
   ]
  },
  {
   "cell_type": "code",
   "execution_count": 8,
   "metadata": {},
   "outputs": [],
   "source": [
    "def calculate_clo(m: float, icl: float) -> float:\n",
    "    \"\"\"\n",
    "    Calculates the clo for a given metabolic rate and clothing insulation using ASHRAE 55:2023.\n",
    "    \n",
    "    Args:\n",
    "        m (float): metabolic rate in met unit\n",
    "        icl (float): clothing insulation in clo unit\n",
    "    \n",
    "    Return:\n",
    "        float: clo value to use in the PMV calculator\n",
    "    \"\"\"\n",
    "    if m < 1.2:\n",
    "        clo = icl\n",
    "\n",
    "    else:\n",
    "        clo = icl * (0.6 + 0.4 / m)\n",
    "\n",
    "    return clo"
   ]
  },
  {
   "cell_type": "code",
   "execution_count": 9,
   "metadata": {},
   "outputs": [],
   "source": [
    "def calculate_pmv(ta: float, tr: float, vel: float, rh: float, met: float, clo: float, wme: float) -> dict:\n",
    "    \"\"\"\n",
    "     Calculate the PMV for given inputs using ASHRAE 55:2023. The air speed shouldn't be above 0.1 m/s.\n",
    "\n",
    "     Args:\n",
    "          ta (float): air temperature in C\n",
    "          tr (float): mean radiant temperature in C\n",
    "          vel(float): air speed in m/s\n",
    "          rh (float): relative humidity in %\n",
    "          met (float): metabolic rate in met unit\n",
    "          clo (float): clothing factor in clo unit (calculated using calculate_clo method)\n",
    "          wme (float): external work in met\n",
    "\n",
    "     Return:\n",
    "          dict: {\n",
    "               pmv: Predicted Mean Vote (PMV),\n",
    "               ppd: Predicted Precentage of Dissatisfied (PPD),\n",
    "               status: status of the calculation, 0 succeed, 1 error\n",
    "               }\n",
    "     \"\"\"\n",
    "    if met > 1:\n",
    "        pa = rh * 10. * math.exp(16.6536 - 4030.183 / (ta + 235.))\n",
    "        icl = 0.155 * clo  # thermal insulation of the clothing in m2K/W\n",
    "        m = met * 58.15  # metabolic rate in W/m2\n",
    "        w = wme * 58.15  # extenal work in W/m2\n",
    "        mw = m - w  # internal heat production in the humen body\n",
    "\n",
    "        if icl <= 0.078:\n",
    "            fcl = 1 + (1.29 * icl)\n",
    "        else:\n",
    "            fcl = 1.05 + (0.645 * icl)\n",
    "\n",
    "        # heat transfer coefficient by forced convection\n",
    "        hcf = 12.1 * math.sqrt(vel)\n",
    "        taa = ta + 273.\n",
    "        tra = tr + 273.\n",
    "        tcla = taa + (35.5 - ta) / (3.5 * icl + 0.1)\n",
    "        p1 = icl * fcl\n",
    "        p2 = p1 * 3.96\n",
    "        p3 = p1 * 100.\n",
    "        p4 = p1 * taa\n",
    "        p5 = 308.7 - 0.028 * mw + (p2 * math.pow(tra / 100, 4))\n",
    "        xn = tcla / 100.\n",
    "        xf = tcla / 50.\n",
    "        eps = 0.00015\n",
    "        n = 0\n",
    "\n",
    "        while abs(xn - xf) > eps:\n",
    "            xf = (xf + xn) / 2\n",
    "            hcn = 2.38 * math.pow(abs(100. * xf - taa), 0.25)\n",
    "            hc = hcf if hcf > hcn else hcn\n",
    "            xn = (p5 + p4 * hc - p2 * math.pow(xf, 4)) / (100. + p3 * hc)\n",
    "            n += 1\n",
    "            if n > 150:\n",
    "                print(\"Max iterations exceeded\")\n",
    "                return {\n",
    "                    'pmv': 0,\n",
    "                    'ppd': 0,\n",
    "                    'status': 1\n",
    "                    }\n",
    "\n",
    "        tcl = 100. * xn - 273.\n",
    "\n",
    "        # heat loss diff. through skin\n",
    "        hl1 = 3.05 * 0.001 * (5733 - (6.99 * mw) - pa)\n",
    "\n",
    "        # heat loss by sweating\n",
    "        hl2 = 0.42 * (mw - 58.15) if (mw > 58.15) else 0\n",
    "\n",
    "        # latent respiration heat loss\n",
    "        hl3 = 1.7 * 0.00001 * m * (5867. - pa)\n",
    "\n",
    "        # dry respiration heat loss\n",
    "        hl4 = 0.0014 * m * (34. - ta)\n",
    "\n",
    "        # heat loss by radiation\n",
    "        hl5 = 3.96 * fcl * (math.pow(xn, 4) - math.pow(tra / 100., 4))\n",
    "\n",
    "        # heat loss by convection\n",
    "        hl6 = fcl * hc * (tcl - ta)\n",
    "\n",
    "        ts = 0.303 * math.exp(-0.036 * m) + 0.028\n",
    "        pmv = ts * (mw - hl1 - hl2 - hl3 - hl4 - hl5 - hl6)\n",
    "        ppd = 100 - 95 * \\\n",
    "        math.exp(-0.03353 * math.pow(pmv, 4) - 0.2179 * math.pow(pmv, 2))\n",
    "\n",
    "        return {\n",
    "            'pmv': pmv,\n",
    "            'ppd': ppd,\n",
    "            'status': 0\n",
    "            }\n",
    "\n",
    "    else:\n",
    "        print(\"ASHRAE 55:2023 calculation does not available for metabolic rate less than 1\")\n",
    "        return {\n",
    "            'pmv': 0,\n",
    "            'ppd': 0,\n",
    "            'status': 1\n",
    "            }"
   ]
  },
  {
   "cell_type": "code",
   "execution_count": 10,
   "metadata": {},
   "outputs": [],
   "source": [
    "def add_pmv_column(df: pd.DataFrame) -> pd.DataFrame:\n",
    "\n",
    "    df['PMV'] = df.apply(lambda x: calculate_pmv(\n",
    "        ta=x['Air Temperature[C]'],\n",
    "        tr=x['Mean Radiant Temperature[C]'],\n",
    "        vel=0.1,\n",
    "        rh=x['Air Relative Humidity[%]'],\n",
    "        met=1.2,\n",
    "        clo=calculate_clo(m=1.2, icl=0.36),\n",
    "        wme=0\n",
    "        )['pmv'], axis=1)\n",
    "\n",
    "    return df"
   ]
  },
  {
   "cell_type": "code",
   "execution_count": 11,
   "metadata": {},
   "outputs": [],
   "source": [
    "if run_test:\n",
    "    step_2_test_df = add_pmv_column(step_1_test_df)\n",
    "    display(step_2_test_df.head())"
   ]
  },
  {
   "cell_type": "markdown",
   "metadata": {},
   "source": [
    "### Step 3\n",
    "\n",
    "Calculate the average pmv value for each month. \\\n",
    "Identify the month with highest cumilative PMV values averaged over 30 days from the baseline."
   ]
  },
  {
   "cell_type": "code",
   "execution_count": 12,
   "metadata": {},
   "outputs": [],
   "source": [
    "def get_month_with_highest_cum_pmv(df: pd.DataFrame) -> int:\n",
    "\n",
    "    # calculate the mean pmv for day of each month\n",
    "    group_by_month = df.groupby(df[\"Hourly\"].dt.month)[\"PMV\"].mean()*24\n",
    "\n",
    "    # multiply the value by 30 to get monthly avearage\n",
    "    group_by_month = group_by_month * 30\n",
    "\n",
    "    max_cum_pmv_month = group_by_month.index[group_by_month == group_by_month.max()][0]\n",
    "    \n",
    "    return max_cum_pmv_month"
   ]
  },
  {
   "cell_type": "code",
   "execution_count": 13,
   "metadata": {},
   "outputs": [],
   "source": [
    "if run_test:\n",
    "    step_3_test = get_month_with_highest_cum_pmv(step_2_test_df)\n",
    "    display(step_3_test)"
   ]
  },
  {
   "cell_type": "markdown",
   "metadata": {},
   "source": [
    "### Step 4\n",
    "\n",
    "Calculate the PMV value for all building models in the baseline.\\\n",
    "Check if the month with highest cumilative PMV values averaged over 30 days from the baseline is different from each baselines."
   ]
  },
  {
   "cell_type": "code",
   "execution_count": 14,
   "metadata": {},
   "outputs": [
    {
     "data": {
      "text/html": [
       "<div>\n",
       "<style scoped>\n",
       "    .dataframe tbody tr th:only-of-type {\n",
       "        vertical-align: middle;\n",
       "    }\n",
       "\n",
       "    .dataframe tbody tr th {\n",
       "        vertical-align: top;\n",
       "    }\n",
       "\n",
       "    .dataframe thead th {\n",
       "        text-align: right;\n",
       "    }\n",
       "</style>\n",
       "<table border=\"1\" class=\"dataframe\">\n",
       "  <thead>\n",
       "    <tr style=\"text-align: right;\">\n",
       "      <th></th>\n",
       "      <th>File Name</th>\n",
       "      <th>Month with Highest Cumulative PMV</th>\n",
       "    </tr>\n",
       "  </thead>\n",
       "  <tbody>\n",
       "    <tr>\n",
       "      <th>0</th>\n",
       "      <td>10deg_roof_without_ceiling_0deg_no_roof_paint.csv</td>\n",
       "      <td>4</td>\n",
       "    </tr>\n",
       "    <tr>\n",
       "      <th>1</th>\n",
       "      <td>10deg_roof_without_ceiling_180deg_no_roof_pain...</td>\n",
       "      <td>4</td>\n",
       "    </tr>\n",
       "    <tr>\n",
       "      <th>2</th>\n",
       "      <td>10deg_roof_without_ceiling_270deg_no_roof_pain...</td>\n",
       "      <td>4</td>\n",
       "    </tr>\n",
       "    <tr>\n",
       "      <th>3</th>\n",
       "      <td>10deg_roof_without_ceiling_90deg_no_roof_paint...</td>\n",
       "      <td>4</td>\n",
       "    </tr>\n",
       "    <tr>\n",
       "      <th>4</th>\n",
       "      <td>10deg_roof_with_ceiling_0deg_no_roof_paint.csv</td>\n",
       "      <td>4</td>\n",
       "    </tr>\n",
       "    <tr>\n",
       "      <th>5</th>\n",
       "      <td>10deg_roof_with_ceiling_180deg_no_roof_paint.csv</td>\n",
       "      <td>4</td>\n",
       "    </tr>\n",
       "    <tr>\n",
       "      <th>6</th>\n",
       "      <td>10deg_roof_with_ceiling_270deg_no_roof_paint.csv</td>\n",
       "      <td>4</td>\n",
       "    </tr>\n",
       "    <tr>\n",
       "      <th>7</th>\n",
       "      <td>10deg_roof_with_ceiling_90deg_no_roof_paint.csv</td>\n",
       "      <td>4</td>\n",
       "    </tr>\n",
       "    <tr>\n",
       "      <th>8</th>\n",
       "      <td>15deg_roof_without_ceiling_0deg_no_roof_paint.csv</td>\n",
       "      <td>4</td>\n",
       "    </tr>\n",
       "    <tr>\n",
       "      <th>9</th>\n",
       "      <td>15deg_roof_without_ceiling_180deg_no_roof_pain...</td>\n",
       "      <td>4</td>\n",
       "    </tr>\n",
       "    <tr>\n",
       "      <th>10</th>\n",
       "      <td>15deg_roof_without_ceiling_270deg_no_roof_pain...</td>\n",
       "      <td>4</td>\n",
       "    </tr>\n",
       "    <tr>\n",
       "      <th>11</th>\n",
       "      <td>15deg_roof_without_ceiling_90deg_no_roof_paint...</td>\n",
       "      <td>4</td>\n",
       "    </tr>\n",
       "    <tr>\n",
       "      <th>12</th>\n",
       "      <td>15deg_roof_with_ceiling_0deg_no_roof_paint.csv</td>\n",
       "      <td>4</td>\n",
       "    </tr>\n",
       "    <tr>\n",
       "      <th>13</th>\n",
       "      <td>15deg_roof_with_ceiling_180deg_no_roof_paint.csv</td>\n",
       "      <td>4</td>\n",
       "    </tr>\n",
       "    <tr>\n",
       "      <th>14</th>\n",
       "      <td>15deg_roof_with_ceiling_270deg_no_roof_paint.csv</td>\n",
       "      <td>4</td>\n",
       "    </tr>\n",
       "    <tr>\n",
       "      <th>15</th>\n",
       "      <td>15deg_roof_with_ceiling_90deg_no_roof_paint.csv</td>\n",
       "      <td>4</td>\n",
       "    </tr>\n",
       "    <tr>\n",
       "      <th>16</th>\n",
       "      <td>20deg_roof_without_ceiling_0deg_no_roof_paint.csv</td>\n",
       "      <td>4</td>\n",
       "    </tr>\n",
       "    <tr>\n",
       "      <th>17</th>\n",
       "      <td>20deg_roof_without_ceiling_180deg_no_roof_pain...</td>\n",
       "      <td>4</td>\n",
       "    </tr>\n",
       "    <tr>\n",
       "      <th>18</th>\n",
       "      <td>20deg_roof_without_ceiling_270deg_no_roof_pain...</td>\n",
       "      <td>4</td>\n",
       "    </tr>\n",
       "    <tr>\n",
       "      <th>19</th>\n",
       "      <td>20deg_roof_without_ceiling_90deg_no_roof_paint...</td>\n",
       "      <td>4</td>\n",
       "    </tr>\n",
       "    <tr>\n",
       "      <th>20</th>\n",
       "      <td>20deg_roof_with_ceiling_0deg_no_roof_paint.csv</td>\n",
       "      <td>4</td>\n",
       "    </tr>\n",
       "    <tr>\n",
       "      <th>21</th>\n",
       "      <td>20deg_roof_with_ceiling_180deg_no_roof_paint.csv</td>\n",
       "      <td>4</td>\n",
       "    </tr>\n",
       "    <tr>\n",
       "      <th>22</th>\n",
       "      <td>20deg_roof_with_ceiling_270deg_no_roof_paint.csv</td>\n",
       "      <td>4</td>\n",
       "    </tr>\n",
       "    <tr>\n",
       "      <th>23</th>\n",
       "      <td>20deg_roof_with_ceiling_90deg_no_roof_paint.csv</td>\n",
       "      <td>4</td>\n",
       "    </tr>\n",
       "    <tr>\n",
       "      <th>24</th>\n",
       "      <td>5deg_roof_without_ceiling_0deg_no_roof_paint.csv</td>\n",
       "      <td>4</td>\n",
       "    </tr>\n",
       "    <tr>\n",
       "      <th>25</th>\n",
       "      <td>5deg_roof_without_ceiling_180deg_no_roof_paint...</td>\n",
       "      <td>4</td>\n",
       "    </tr>\n",
       "    <tr>\n",
       "      <th>26</th>\n",
       "      <td>5deg_roof_without_ceiling_270deg_no_roof_paint...</td>\n",
       "      <td>4</td>\n",
       "    </tr>\n",
       "    <tr>\n",
       "      <th>27</th>\n",
       "      <td>5deg_roof_without_ceiling_90deg_no_roof_paint.csv</td>\n",
       "      <td>4</td>\n",
       "    </tr>\n",
       "    <tr>\n",
       "      <th>28</th>\n",
       "      <td>5deg_roof_with_ceiling_0deg_no_roof_paint.csv</td>\n",
       "      <td>4</td>\n",
       "    </tr>\n",
       "    <tr>\n",
       "      <th>29</th>\n",
       "      <td>5deg_roof_with_ceiling_180deg_no_roof_paint.csv</td>\n",
       "      <td>4</td>\n",
       "    </tr>\n",
       "    <tr>\n",
       "      <th>30</th>\n",
       "      <td>5deg_roof_with_ceiling_270deg_no_roof_paint.csv</td>\n",
       "      <td>4</td>\n",
       "    </tr>\n",
       "    <tr>\n",
       "      <th>31</th>\n",
       "      <td>5deg_roof_with_ceiling_90deg_no_roof_paint.csv</td>\n",
       "      <td>4</td>\n",
       "    </tr>\n",
       "    <tr>\n",
       "      <th>32</th>\n",
       "      <td>flat_roof_without_ceiling_0deg_no_roof_paint.csv</td>\n",
       "      <td>3</td>\n",
       "    </tr>\n",
       "    <tr>\n",
       "      <th>33</th>\n",
       "      <td>flat_roof_without_ceiling_180deg_no_roof_paint...</td>\n",
       "      <td>4</td>\n",
       "    </tr>\n",
       "    <tr>\n",
       "      <th>34</th>\n",
       "      <td>flat_roof_without_ceiling_270deg_no_roof_paint...</td>\n",
       "      <td>3</td>\n",
       "    </tr>\n",
       "    <tr>\n",
       "      <th>35</th>\n",
       "      <td>flat_roof_without_ceiling_90deg_no_roof_paint.csv</td>\n",
       "      <td>4</td>\n",
       "    </tr>\n",
       "    <tr>\n",
       "      <th>36</th>\n",
       "      <td>flat_roof_with_ceiling_0deg_no_roof_paint.csv</td>\n",
       "      <td>4</td>\n",
       "    </tr>\n",
       "    <tr>\n",
       "      <th>37</th>\n",
       "      <td>flat_roof_with_ceiling_180deg_no_roof_paint.csv</td>\n",
       "      <td>5</td>\n",
       "    </tr>\n",
       "    <tr>\n",
       "      <th>38</th>\n",
       "      <td>flat_roof_with_ceiling_270deg_no_roof_paint.csv</td>\n",
       "      <td>4</td>\n",
       "    </tr>\n",
       "    <tr>\n",
       "      <th>39</th>\n",
       "      <td>flat_roof_with_ceiling_90deg_no_roof_paint.csv</td>\n",
       "      <td>4</td>\n",
       "    </tr>\n",
       "  </tbody>\n",
       "</table>\n",
       "</div>"
      ],
      "text/plain": [
       "                                            File Name  \\\n",
       "0   10deg_roof_without_ceiling_0deg_no_roof_paint.csv   \n",
       "1   10deg_roof_without_ceiling_180deg_no_roof_pain...   \n",
       "2   10deg_roof_without_ceiling_270deg_no_roof_pain...   \n",
       "3   10deg_roof_without_ceiling_90deg_no_roof_paint...   \n",
       "4      10deg_roof_with_ceiling_0deg_no_roof_paint.csv   \n",
       "5    10deg_roof_with_ceiling_180deg_no_roof_paint.csv   \n",
       "6    10deg_roof_with_ceiling_270deg_no_roof_paint.csv   \n",
       "7     10deg_roof_with_ceiling_90deg_no_roof_paint.csv   \n",
       "8   15deg_roof_without_ceiling_0deg_no_roof_paint.csv   \n",
       "9   15deg_roof_without_ceiling_180deg_no_roof_pain...   \n",
       "10  15deg_roof_without_ceiling_270deg_no_roof_pain...   \n",
       "11  15deg_roof_without_ceiling_90deg_no_roof_paint...   \n",
       "12     15deg_roof_with_ceiling_0deg_no_roof_paint.csv   \n",
       "13   15deg_roof_with_ceiling_180deg_no_roof_paint.csv   \n",
       "14   15deg_roof_with_ceiling_270deg_no_roof_paint.csv   \n",
       "15    15deg_roof_with_ceiling_90deg_no_roof_paint.csv   \n",
       "16  20deg_roof_without_ceiling_0deg_no_roof_paint.csv   \n",
       "17  20deg_roof_without_ceiling_180deg_no_roof_pain...   \n",
       "18  20deg_roof_without_ceiling_270deg_no_roof_pain...   \n",
       "19  20deg_roof_without_ceiling_90deg_no_roof_paint...   \n",
       "20     20deg_roof_with_ceiling_0deg_no_roof_paint.csv   \n",
       "21   20deg_roof_with_ceiling_180deg_no_roof_paint.csv   \n",
       "22   20deg_roof_with_ceiling_270deg_no_roof_paint.csv   \n",
       "23    20deg_roof_with_ceiling_90deg_no_roof_paint.csv   \n",
       "24   5deg_roof_without_ceiling_0deg_no_roof_paint.csv   \n",
       "25  5deg_roof_without_ceiling_180deg_no_roof_paint...   \n",
       "26  5deg_roof_without_ceiling_270deg_no_roof_paint...   \n",
       "27  5deg_roof_without_ceiling_90deg_no_roof_paint.csv   \n",
       "28      5deg_roof_with_ceiling_0deg_no_roof_paint.csv   \n",
       "29    5deg_roof_with_ceiling_180deg_no_roof_paint.csv   \n",
       "30    5deg_roof_with_ceiling_270deg_no_roof_paint.csv   \n",
       "31     5deg_roof_with_ceiling_90deg_no_roof_paint.csv   \n",
       "32   flat_roof_without_ceiling_0deg_no_roof_paint.csv   \n",
       "33  flat_roof_without_ceiling_180deg_no_roof_paint...   \n",
       "34  flat_roof_without_ceiling_270deg_no_roof_paint...   \n",
       "35  flat_roof_without_ceiling_90deg_no_roof_paint.csv   \n",
       "36      flat_roof_with_ceiling_0deg_no_roof_paint.csv   \n",
       "37    flat_roof_with_ceiling_180deg_no_roof_paint.csv   \n",
       "38    flat_roof_with_ceiling_270deg_no_roof_paint.csv   \n",
       "39     flat_roof_with_ceiling_90deg_no_roof_paint.csv   \n",
       "\n",
       "    Month with Highest Cumulative PMV  \n",
       "0                                   4  \n",
       "1                                   4  \n",
       "2                                   4  \n",
       "3                                   4  \n",
       "4                                   4  \n",
       "5                                   4  \n",
       "6                                   4  \n",
       "7                                   4  \n",
       "8                                   4  \n",
       "9                                   4  \n",
       "10                                  4  \n",
       "11                                  4  \n",
       "12                                  4  \n",
       "13                                  4  \n",
       "14                                  4  \n",
       "15                                  4  \n",
       "16                                  4  \n",
       "17                                  4  \n",
       "18                                  4  \n",
       "19                                  4  \n",
       "20                                  4  \n",
       "21                                  4  \n",
       "22                                  4  \n",
       "23                                  4  \n",
       "24                                  4  \n",
       "25                                  4  \n",
       "26                                  4  \n",
       "27                                  4  \n",
       "28                                  4  \n",
       "29                                  4  \n",
       "30                                  4  \n",
       "31                                  4  \n",
       "32                                  3  \n",
       "33                                  4  \n",
       "34                                  3  \n",
       "35                                  4  \n",
       "36                                  4  \n",
       "37                                  5  \n",
       "38                                  4  \n",
       "39                                  4  "
      ]
     },
     "metadata": {},
     "output_type": "display_data"
    }
   ],
   "source": [
    "months_with_highest_pmv = {}\n",
    "baseline_dfs = {}\n",
    "\n",
    "for baseline_csv_file in baseline_csv_files[:4 if run_test else len(baseline_csv_files)]:\n",
    "    preprocessed_baseline_df = preprocess_data(os.path.join(BASELINE_PATH, baseline_csv_file))\n",
    "    baseline_df = add_pmv_column(preprocessed_baseline_df)\n",
    "    max_month_with_cum_pmv = get_month_with_highest_cum_pmv(baseline_df)\n",
    "    months_with_highest_pmv[baseline_csv_file] = max_month_with_cum_pmv\n",
    "\n",
    "    # store baseline files\n",
    "    baseline_dfs[baseline_csv_file.strip(\".csv\")] = baseline_df\n",
    "\n",
    "months_with_highest_cum_pmv_df = pd.DataFrame(\n",
    "    months_with_highest_pmv.items(),\n",
    "    columns=['File Name', 'Month with Highest Cumulative PMV']\n",
    ")\n",
    "\n",
    "display(months_with_highest_cum_pmv_df)\n"
   ]
  },
  {
   "cell_type": "code",
   "execution_count": 30,
   "metadata": {},
   "outputs": [],
   "source": [
    "# save the results into a csv file\n",
    "months_with_highest_cum_pmv_df.to_csv(\".\\\\output\\\\months_with_highest_cum_pmv.csv\", index=False)"
   ]
  },
  {
   "cell_type": "code",
   "execution_count": 16,
   "metadata": {},
   "outputs": [
    {
     "name": "stdout",
     "output_type": "stream",
     "text": [
      "Most common month with highest cumulative PMV: 4\n"
     ]
    }
   ],
   "source": [
    "# get the most common month from above data\n",
    "month_with_highest_cum_pmv = months_with_highest_cum_pmv_df['Month with Highest Cumulative PMV'].mode()[0]\n",
    "print(f\"Most common month with highest cumulative PMV: {month_with_highest_cum_pmv}\")"
   ]
  },
  {
   "cell_type": "markdown",
   "metadata": {},
   "source": [
    "### Step 5\n",
    "\n",
    "Calculate the hourly averaged temperature, humidity and PMV values for the selected month using baseline data."
   ]
  },
  {
   "cell_type": "code",
   "execution_count": 17,
   "metadata": {},
   "outputs": [],
   "source": [
    "processed_baseline_dfs = {}\n",
    "\n",
    "for key, baseline_df in baseline_dfs.items():\n",
    "    df = baseline_df.loc[baseline_df[\"Hourly\"].dt.month == month_with_highest_cum_pmv]\n",
    "\n",
    "    # create columns for month and hour\n",
    "    selected_month_df = df.copy()\n",
    "    selected_month_df[\"Month\"] = df[\"Hourly\"].dt.month.astype(int)\n",
    "    selected_month_df[\"Hour\"] = df[\"Hourly\"].dt.hour.astype(int)\n",
    "    \n",
    "\n",
    "    # drop hourly column\n",
    "    selected_month_df.drop(columns=[\"Hourly\"], inplace=True)\n",
    "    \n",
    "    # calculate the hourly averaged the temperature, humidity and PMV\n",
    "    selected_month_df = selected_month_df.groupby(selected_month_df[\"Hour\"]).mean()\n",
    "    selected_month_df.reset_index(inplace=True)\n",
    "\n",
    "    processed_baseline_dfs[key] = selected_month_df"
   ]
  },
  {
   "cell_type": "code",
   "execution_count": 18,
   "metadata": {},
   "outputs": [],
   "source": [
    "if run_test:\n",
    "    display(processed_baseline_dfs[list(processed_baseline_dfs.keys())[0]])"
   ]
  },
  {
   "cell_type": "markdown",
   "metadata": {},
   "source": [
    "### Step 6\n",
    "\n",
    "Convert the improved csv files to processed dataframes.\\\n",
    "Generate graphs to compair the temperature, humidity and PMV values for the baseline and the passive cooling implimented models."
   ]
  },
  {
   "cell_type": "code",
   "execution_count": 19,
   "metadata": {},
   "outputs": [],
   "source": [
    "processed_improved_dfs = {}\n",
    "\n",
    "for improved_csv_file in improved_csv_files[0:4 if run_test else len(improved_csv_files)]:\n",
    "    preprocessed_improved_df = preprocess_data(os.path.join(IMPROVED_PATH, improved_csv_file))\n",
    "    improved_df = add_pmv_column(preprocessed_improved_df)\n",
    "\n",
    "    # seperate data only relevent to selected month\n",
    "    df = improved_df.loc[improved_df[\"Hourly\"].dt.month == month_with_highest_cum_pmv]\n",
    "\n",
    "    # create columns for month and hour\n",
    "    highest_cum_pmv_month_df = df.copy()\n",
    "    highest_cum_pmv_month_df[\"Month\"] = df[\"Hourly\"].dt.month.astype(int)\n",
    "    highest_cum_pmv_month_df[\"Hour\"] = df[\"Hourly\"].dt.hour.astype(int)\n",
    "\n",
    "    # drop hourly column\n",
    "    highest_cum_pmv_month_df.drop(columns=[\"Hourly\"], inplace=True)\n",
    "\n",
    "    # calculate the hourly averaged the temperature, humidity and PMV\n",
    "    highest_cum_pmv_month_df = highest_cum_pmv_month_df.groupby(highest_cum_pmv_month_df[\"Hour\"]).mean()\n",
    "    highest_cum_pmv_month_df.reset_index(inplace=True)\n",
    "\n",
    "    processed_improved_dfs[improved_csv_file.strip(\".csv\")] = highest_cum_pmv_month_df\n",
    "    "
   ]
  },
  {
   "cell_type": "code",
   "execution_count": 20,
   "metadata": {},
   "outputs": [],
   "source": [
    "if run_test:\n",
    "    df = processed_baseline_dfs[list(processed_baseline_dfs.keys())[0]]\n",
    "    plt.figure(figsize=(6, 4), dpi=200)\n",
    "    plt.plot('Hour', 'Air Temperature[C]', data=df, label='Room', linewidth=1.0)\n",
    "    plt.plot('Hour', 'Outdoor Air Drybulb Temperature[C]', data=df, label='Outdoor', linewidth=1.0, linestyle='-.')\n",
    "\n",
    "    plt.title('Hourly Temperature Variation')\n",
    "    plt.xlabel('Hour')\n",
    "    plt.ylabel('Temperature (C)')\n",
    "\n",
    "    plt.xticks(np.arange(0, 24, 1))\n",
    "\n",
    "    plt.xlim(0, 23)\n",
    "    plt.ylim(24, 40)\n",
    "\n",
    "    plt.grid(True)\n",
    "    plt.legend(loc='upper left')\n",
    "    plt.show()"
   ]
  },
  {
   "cell_type": "markdown",
   "metadata": {},
   "source": [
    "#### Compare the building orientation effect on room temperature"
   ]
  },
  {
   "cell_type": "code",
   "execution_count": 21,
   "metadata": {},
   "outputs": [],
   "source": [
    "def plot_orientation_temp_change(roof_angle, ceiling):\n",
    "    base_file_name = f\"{str(roof_angle)+'deg' if roof_angle != 0 else 'flat'}_roof_{ceiling}\"\n",
    "\n",
    "    df_0 = processed_baseline_dfs[f\"{base_file_name}_0deg_no_roof_paint\"]\n",
    "    df_90 = processed_baseline_dfs[f\"{base_file_name}_90deg_no_roof_paint\"]\n",
    "    df_180 = processed_baseline_dfs[f\"{base_file_name}_180deg_no_roof_paint\"]\n",
    "    df_270 = processed_baseline_dfs[f\"{base_file_name}_270deg_no_roof_paint\"]\n",
    "\n",
    "    plt.figure(figsize=(6, 4), dpi=200)\n",
    "    plt.plot('Hour', 'Air Temperature[C]', data=df_0, label='0 degree', linewidth=1.0)\n",
    "    plt.plot('Hour', 'Air Temperature[C]', data=df_90, label='90 degree', linewidth=1.0)\n",
    "    plt.plot('Hour', 'Air Temperature[C]', data=df_180, label='180 degree', linewidth=1.0)\n",
    "    plt.plot('Hour', 'Air Temperature[C]', data=df_270, label='270 degree', linewidth=1.0)\n",
    "\n",
    "    plt.title('Hourly Temperature Variation')\n",
    "    plt.xlabel('Hour')\n",
    "    plt.ylabel('Temperature (C)')\n",
    "\n",
    "    plt.xticks(np.arange(0, 24, 1))\n",
    "\n",
    "    plt.xlim(0, 23)\n",
    "    plt.ylim(24, 40)\n",
    "\n",
    "    plt.grid(True)\n",
    "    plt.legend(loc='upper left')\n",
    "    plt.show()"
   ]
  },
  {
   "cell_type": "code",
   "execution_count": 22,
   "metadata": {},
   "outputs": [
    {
     "data": {
      "application/vnd.jupyter.widget-view+json": {
       "model_id": "fdf225b8d3d34e3c97729110b67729d3",
       "version_major": 2,
       "version_minor": 0
      },
      "text/plain": [
       "interactive(children=(Dropdown(description='roof_angle', options=(0, 5, 10, 15, 20), value=0), Dropdown(descri…"
      ]
     },
     "metadata": {},
     "output_type": "display_data"
    },
    {
     "data": {
      "text/plain": [
       "<function __main__.plot_orientation_temp_change(roof_angle, ceiling)>"
      ]
     },
     "execution_count": 22,
     "metadata": {},
     "output_type": "execute_result"
    }
   ],
   "source": [
    "ipywidgets.interact(plot_orientation_temp_change, roof_angle=[0, 5, 10, 15, 20], ceiling=['without_ceiling', 'with_ceiling'])"
   ]
  },
  {
   "cell_type": "markdown",
   "metadata": {},
   "source": [
    "#### Compare the effect of roof angle on room temperature"
   ]
  },
  {
   "cell_type": "code",
   "execution_count": 23,
   "metadata": {},
   "outputs": [],
   "source": [
    "def plot_roof_angle_temp_change(orientation, ceiling, roof_paint):\n",
    "    base_file_name = f\"_roof_{ceiling}_{orientation}deg_{roof_paint}\"\n",
    "\n",
    "    if roof_paint == 'roof_paint':\n",
    "        df_0_deg_roof = processed_improved_dfs[f\"flat{base_file_name}\"]\n",
    "        df_5_deg_roof = processed_improved_dfs[f\"5deg{base_file_name}\"]\n",
    "        df_10_deg_roof = processed_improved_dfs[f\"10deg{base_file_name}\"]\n",
    "        df_15_deg_roof = processed_improved_dfs[f\"15deg{base_file_name}\"]\n",
    "        df_20_deg_roof = processed_improved_dfs[f\"20deg{base_file_name}\"]\n",
    "    else:\n",
    "        df_0_deg_roof = processed_baseline_dfs[f\"flat{base_file_name}\"]\n",
    "        df_5_deg_roof = processed_baseline_dfs[f\"5deg{base_file_name}\"]\n",
    "        df_10_deg_roof = processed_baseline_dfs[f\"10deg{base_file_name}\"]\n",
    "        df_15_deg_roof = processed_baseline_dfs[f\"15deg{base_file_name}\"]\n",
    "        df_20_deg_roof = processed_baseline_dfs[f\"20deg{base_file_name}\"]\n",
    "\n",
    "    plt.figure(figsize=(6, 4), dpi=200)\n",
    "    plt.plot('Hour', 'Air Temperature[C]',\n",
    "             data=df_0_deg_roof, label='0 degree roof', linewidth=1.0)\n",
    "    plt.plot('Hour', 'Air Temperature[C]',\n",
    "             data=df_5_deg_roof, label='5 degree roof', linewidth=1.0)\n",
    "    plt.plot('Hour', 'Air Temperature[C]',\n",
    "             data=df_10_deg_roof, label='10 degree roof', linewidth=1.0)\n",
    "    plt.plot('Hour', 'Air Temperature[C]',\n",
    "             data=df_15_deg_roof, label='15 degree roof', linewidth=1.0)\n",
    "    plt.plot('Hour', 'Air Temperature[C]',\n",
    "             data=df_20_deg_roof, label='20 degree roof', linewidth=1.0)\n",
    "\n",
    "    plt.title('Hourly Temperature Variation')\n",
    "    plt.xlabel('Hour')\n",
    "    plt.ylabel('Temperature (C)')\n",
    "\n",
    "    plt.xticks(np.arange(0, 24, 1))\n",
    "\n",
    "    plt.xlim(0, 23)\n",
    "    plt.ylim(24, 40)\n",
    "\n",
    "    plt.grid(True)\n",
    "    plt.legend(loc='upper left')\n",
    "    plt.show()"
   ]
  },
  {
   "cell_type": "code",
   "execution_count": 24,
   "metadata": {},
   "outputs": [
    {
     "data": {
      "application/vnd.jupyter.widget-view+json": {
       "model_id": "e428b4156f5a416b9934766262c44087",
       "version_major": 2,
       "version_minor": 0
      },
      "text/plain": [
       "interactive(children=(Dropdown(description='orientation', options=(0, 90, 180, 270), value=0), Dropdown(descri…"
      ]
     },
     "metadata": {},
     "output_type": "display_data"
    },
    {
     "data": {
      "text/plain": [
       "<function __main__.plot_roof_angle_temp_change(orientation, ceiling, roof_paint)>"
      ]
     },
     "execution_count": 24,
     "metadata": {},
     "output_type": "execute_result"
    }
   ],
   "source": [
    "ipywidgets.interact(plot_roof_angle_temp_change, \n",
    "                    orientation=[0, 90, 180, 270], \n",
    "                    ceiling=['without_ceiling', 'with_ceiling'],\n",
    "                    roof_paint=['no_roof_paint', 'roof_paint'])"
   ]
  },
  {
   "cell_type": "markdown",
   "metadata": {},
   "source": [
    "#### Compare the room temperature variation before and after passive cooling"
   ]
  },
  {
   "cell_type": "code",
   "execution_count": 25,
   "metadata": {},
   "outputs": [],
   "source": [
    "def plot_temp_change_after_improvement(roof_angle, ceiling, orientation):\n",
    "    base_file_name = f\"{str(roof_angle)+'deg' if roof_angle !=0 else 'flat'}_roof_{ceiling}_{orientation}deg\"\n",
    "\n",
    "    baseline_df = processed_baseline_dfs[f\"{base_file_name}_no_roof_paint\"]\n",
    "    improved_df = processed_improved_dfs[f\"{base_file_name}_roof_paint\"]\n",
    "\n",
    "    plt.figure(figsize=(6, 4), dpi=200)\n",
    "    plt.plot('Hour', 'Air Temperature[C]', data=baseline_df, label='No roof paint', linewidth=1.0)\n",
    "    plt.plot('Hour', 'Air Temperature[C]', data=improved_df, label='With roof paint', linewidth=1.0, linestyle='--')\n",
    "    plt.plot('Hour', 'Outdoor Air Drybulb Temperature[C]', data=baseline_df, label='Outdoor', linewidth=1.0, linestyle='-.')\n",
    "\n",
    "    plt.title('Hourly Temperature Variation')\n",
    "    plt.xlabel('Hour')\n",
    "    plt.ylabel('Temperature (C)')\n",
    "\n",
    "    plt.xticks(np.arange(0, 24, 1))\n",
    "\n",
    "    plt.xlim(0, 23)\n",
    "    plt.ylim(24, 40)\n",
    "\n",
    "    plt.grid(True)\n",
    "    plt.legend(loc='upper left')\n",
    "    plt.show()"
   ]
  },
  {
   "cell_type": "code",
   "execution_count": 26,
   "metadata": {},
   "outputs": [
    {
     "data": {
      "application/vnd.jupyter.widget-view+json": {
       "model_id": "b7fce40fdc12429ea6bd8ef0a8453f3e",
       "version_major": 2,
       "version_minor": 0
      },
      "text/plain": [
       "interactive(children=(Dropdown(description='roof_angle', options=(0, 5, 10, 15, 20), value=0), Dropdown(descri…"
      ]
     },
     "metadata": {},
     "output_type": "display_data"
    },
    {
     "data": {
      "text/plain": [
       "<function __main__.plot_temp_change_after_improvement(roof_angle, ceiling, orientation)>"
      ]
     },
     "execution_count": 26,
     "metadata": {},
     "output_type": "execute_result"
    }
   ],
   "source": [
    "ipywidgets.interact(plot_temp_change_after_improvement, \n",
    "                    roof_angle=[0, 5, 10, 15, 20], \n",
    "                    ceiling=['without_ceiling', 'with_ceiling'],\n",
    "                    orientation=[0, 90, 180, 270]\n",
    "                    )"
   ]
  },
  {
   "cell_type": "code",
   "execution_count": 27,
   "metadata": {},
   "outputs": [],
   "source": [
    "def plot_pmv_change_after_improvement(roof_angle, ceiling, orientation):\n",
    "    base_file_name = f\"{str(roof_angle)+'deg' if roof_angle !=\n",
    "                        0 else 'flat'}_roof_{ceiling}_{orientation}deg\"\n",
    "\n",
    "    baseline_df = processed_baseline_dfs[f\"{base_file_name}_no_roof_paint\"]\n",
    "    improved_df = processed_improved_dfs[f\"{base_file_name}_roof_paint\"]\n",
    "\n",
    "    plt.figure(figsize=(6, 4), dpi=200)\n",
    "    plt.plot('Hour', 'PMV', data=baseline_df,\n",
    "             label='No roof paint', linewidth=1.0)\n",
    "    plt.plot('Hour', 'PMV', data=improved_df,\n",
    "             label='With roof paint', linewidth=1.0, linestyle='--')\n",
    "\n",
    "    plt.title('Hourly PMV Variation')\n",
    "    plt.xlabel('Hour')\n",
    "    plt.ylabel('PMV')\n",
    "\n",
    "    plt.xticks(np.arange(0, 24, 1))\n",
    "\n",
    "    plt.xlim(0, 23)\n",
    "    plt.ylim(-1, 4)\n",
    "\n",
    "    plt.fill_between(x=range(24), y1=-0.5, y2=0.5, color='green', alpha=0.2, linewidth=0)\n",
    "    plt.grid(True)\n",
    "    plt.legend(loc='upper left')\n",
    "    plt.show()"
   ]
  },
  {
   "cell_type": "code",
   "execution_count": 28,
   "metadata": {},
   "outputs": [
    {
     "data": {
      "application/vnd.jupyter.widget-view+json": {
       "model_id": "aaa0e25609ce4c33a42932c88e5fb014",
       "version_major": 2,
       "version_minor": 0
      },
      "text/plain": [
       "interactive(children=(Dropdown(description='roof_angle', options=(0, 5, 10, 15, 20), value=0), Dropdown(descri…"
      ]
     },
     "metadata": {},
     "output_type": "display_data"
    },
    {
     "data": {
      "text/plain": [
       "<function __main__.plot_pmv_change_after_improvement(roof_angle, ceiling, orientation)>"
      ]
     },
     "execution_count": 28,
     "metadata": {},
     "output_type": "execute_result"
    }
   ],
   "source": [
    "ipywidgets.interact(plot_pmv_change_after_improvement,\n",
    "                    roof_angle=[0, 5, 10, 15, 20],\n",
    "                    ceiling=['without_ceiling', 'with_ceiling'],\n",
    "                    orientation=[0, 90, 180, 270]\n",
    "                    )"
   ]
  },
  {
   "cell_type": "code",
   "execution_count": null,
   "metadata": {},
   "outputs": [],
   "source": []
  }
 ],
 "metadata": {
  "kernelspec": {
   "display_name": "venv",
   "language": "python",
   "name": "python3"
  },
  "language_info": {
   "codemirror_mode": {
    "name": "ipython",
    "version": 3
   },
   "file_extension": ".py",
   "mimetype": "text/x-python",
   "name": "python",
   "nbconvert_exporter": "python",
   "pygments_lexer": "ipython3",
   "version": "3.12.1"
  }
 },
 "nbformat": 4,
 "nbformat_minor": 2
}
